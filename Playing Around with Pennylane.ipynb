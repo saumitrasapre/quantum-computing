{
 "cells": [
  {
   "cell_type": "markdown",
   "id": "5c56da49-1f25-4898-9dc4-065762c3441d",
   "metadata": {},
   "source": [
    "# A very basic quantum circuit"
   ]
  },
  {
   "cell_type": "code",
   "execution_count": 1,
   "id": "d817c896-a4b8-4a93-9122-55bfd0ed3dbf",
   "metadata": {},
   "outputs": [],
   "source": [
    "# Imports\n",
    "import pennylane as qml\n",
    "# Pennylane uses a special version of numpy which is optimized for quantum objects, and so we need to use their version\n",
    "from pennylane import numpy as np"
   ]
  },
  {
   "cell_type": "markdown",
   "id": "ecd6d440-5889-48ef-8bdf-f0374f8bed2c",
   "metadata": {},
   "source": [
    "# Create a quantum device"
   ]
  },
  {
   "cell_type": "code",
   "execution_count": 2,
   "id": "18d37712-e737-429d-935b-f38da0a0c40f",
   "metadata": {},
   "outputs": [],
   "source": [
    "#  Here we create a quantum device. Pennylane being a plug and play module, we can plug in any quantum computer in it\n",
    "# By default we use the in built simulator that Pennylane provides. The wires are basically the number of qubits used.\n",
    "dev = qml.device('default.qubit', wires=1)"
   ]
  },
  {
   "cell_type": "code",
   "execution_count": 3,
   "id": "81567264-490d-48b2-bcb7-3ae0fa97868c",
   "metadata": {},
   "outputs": [],
   "source": [
    "# We need to wrap our circuit function with the qnode decorator in order to tell Pennylane that this is a quantum object.\n",
    "@qml.qnode(dev)\n",
    "def circuit(params):\n",
    "    # Our circuit is very simple. It takes in a list of two parameters - theta1 and theta2.\n",
    "    # These are the angles with which our qubit is rotated by about the X and Y axes respectively.\n",
    "    # The wires parameter here specifies which qubit we want to rotate. Since we have only 1 qubit, wires=0\n",
    "    qml.RX(params[0],wires=0)\n",
    "    qml.RY(params[1],wires=0)\n",
    "    # We then measure our qubit with respect to the Z axis. A measurement along σ_z involves sandwiching the sigma-z matrix between the qubit\n",
    "    # vector and its complex conjugate. That is <Ψ|σ_z|Ψ>.\n",
    "    return qml.expval(qml.PauliZ(0))"
   ]
  },
  {
   "cell_type": "code",
   "execution_count": 4,
   "id": "2d91a1ae-a990-40d7-94d4-d2ed6d8508cc",
   "metadata": {},
   "outputs": [
    {
     "data": {
      "text/plain": [
       "tensor(0.87758256, requires_grad=True)"
      ]
     },
     "execution_count": 4,
     "metadata": {},
     "output_type": "execute_result"
    }
   ],
   "source": [
    "# Just to test out our circuit, let's see what the expected value is for [0,0.5]\n",
    "params = [0,0.5]\n",
    "circuit(params)"
   ]
  },
  {
   "cell_type": "code",
   "execution_count": 5,
   "id": "b56deec6-8464-4e1d-ae91-bd4503c725a1",
   "metadata": {},
   "outputs": [],
   "source": [
    "# This is our ML cost function. This function measures the quality of our output against the ground truth.\n",
    "# Our aim is to minimize this cost function. A high cost means a worse result.\n",
    "# For the sake of this simple example, let's set our cost function to our circuit itself. It will be the aim of gradient descent to\n",
    "# minimize just the output.\n",
    "def cost(x):\n",
    "    return circuit(x)"
   ]
  },
  {
   "cell_type": "code",
   "execution_count": 6,
   "id": "2baf398d-a916-4ae6-8a53-eeb287dd046b",
   "metadata": {},
   "outputs": [
    {
     "data": {
      "text/plain": [
       "tensor(0.87227854, requires_grad=True)"
      ]
     },
     "execution_count": 6,
     "metadata": {},
     "output_type": "execute_result"
    }
   ],
   "source": [
    "# We set our initial parameters like so. The initial cost is 0.87227\n",
    "init_params = np.array([0.11,0.5])\n",
    "cost(init_params)"
   ]
  },
  {
   "cell_type": "code",
   "execution_count": 7,
   "id": "5ca914a4-16ca-454c-8966-7a56ce3d27d4",
   "metadata": {},
   "outputs": [],
   "source": [
    "# We shall use gradient descent to optimize our input. Here GD will try to search for the values of X-rotation (theta1) and Y-rotation\n",
    "# (theta2) that will minimize the value of measurement about the Z-axis. The stepsize is the learning rate.\n",
    "opt = qml.GradientDescentOptimizer(stepsize=0.4)\n",
    "steps = 100\n",
    "params = init_params"
   ]
  },
  {
   "cell_type": "code",
   "execution_count": 8,
   "id": "024d7227-d259-4dc8-8069-c0862f85f548",
   "metadata": {},
   "outputs": [
    {
     "name": "stdout",
     "output_type": "stream",
     "text": [
      "Cost after step     5 : -0.4151640\n",
      "Cost after step    10 : -0.9926820\n",
      "Cost after step    15 : -0.9999554\n",
      "Cost after step    20 : -0.9999997\n",
      "Cost after step    25 : -1.0000000\n",
      "Cost after step    30 : -1.0000000\n",
      "Cost after step    35 : -1.0000000\n",
      "Cost after step    40 : -1.0000000\n",
      "Cost after step    45 : -1.0000000\n",
      "Cost after step    50 : -1.0000000\n",
      "Cost after step    55 : -1.0000000\n",
      "Cost after step    60 : -1.0000000\n",
      "Cost after step    65 : -1.0000000\n",
      "Cost after step    70 : -1.0000000\n",
      "Cost after step    75 : -1.0000000\n",
      "Cost after step    80 : -1.0000000\n",
      "Cost after step    85 : -1.0000000\n",
      "Cost after step    90 : -1.0000000\n",
      "Cost after step    95 : -1.0000000\n",
      "Cost after step   100 : -1.0000000\n",
      "Optimized rotation angles: [4.16641834e-22 3.14159265e+00]\n"
     ]
    }
   ],
   "source": [
    "for i in range(steps):\n",
    "    params = opt.step(cost,params)\n",
    "    if (i+1)%5==0:\n",
    "        print(\"Cost after step {:5d} : {: .7f}\".format(i+1,cost(params)))\n",
    "print(\"Optimized rotation angles: {}\".format(params))"
   ]
  },
  {
   "cell_type": "code",
   "execution_count": 9,
   "id": "577c4ce8-1e17-4047-81a1-d953fcd6b3e0",
   "metadata": {},
   "outputs": [],
   "source": [
    "# We can see that the result makes perfect sense. In order to achieve a minimum Z-value, we must not rotate about the X-axis (hence \n",
    "# a very small rotation value), and we must rotate about Y-axis by Π degrees, to get a minimum (-1) Z value."
   ]
  },
  {
   "cell_type": "code",
   "execution_count": null,
   "id": "69b778ed-0513-4752-9f43-55b98f36804a",
   "metadata": {},
   "outputs": [],
   "source": []
  }
 ],
 "metadata": {
  "kernelspec": {
   "display_name": "Python 3 (ipykernel)",
   "language": "python",
   "name": "python3"
  },
  "language_info": {
   "codemirror_mode": {
    "name": "ipython",
    "version": 3
   },
   "file_extension": ".py",
   "mimetype": "text/x-python",
   "name": "python",
   "nbconvert_exporter": "python",
   "pygments_lexer": "ipython3",
   "version": "3.10.10"
  }
 },
 "nbformat": 4,
 "nbformat_minor": 5
}
