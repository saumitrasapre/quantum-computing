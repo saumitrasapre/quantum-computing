{
 "cells": [
  {
   "cell_type": "markdown",
   "id": "edbd4873-0f7e-4cc5-8931-ea8897c45190",
   "metadata": {},
   "source": [
    "# Creating a simple Quantum Variational Classifier using Qiskit"
   ]
  },
  {
   "cell_type": "code",
   "execution_count": 1,
   "id": "e3bbf649-07fb-4d41-a299-a5c933ea7996",
   "metadata": {},
   "outputs": [],
   "source": [
    "# Qiskit dataset imports\n",
    "from qiskit_machine_learning.datasets import *\n",
    "from qiskit import QuantumCircuit\n",
    "# COBYLA is an optimizer that can be used to optimize our parameters without derivatives\n",
    "# It stands for Constrained Optmization BY Linear Approximation\n",
    "from qiskit_algorithms.optimizers import COBYLA\n",
    "# The ZZFeaturemap can easily separate the ad_hoc_data dataset. It is used to encode out input data\n",
    "# The RealAmplitudes constitutes the variational form of our circuit. This is where the angles of rotation will be\n",
    "# our parameters\n",
    "from qiskit.circuit.library import ZZFeatureMap, RealAmplitudes\n",
    "import numpy as np\n",
    "import matplotlib.pyplot as plt\n",
    "# Statevector is used to directly initialize our qubits as a vector. So we don't have to use a for loop every time we\n",
    "# want to apply a transformation to them\n",
    "from qiskit.quantum_info import Statevector\n",
    "%matplotlib inline"
   ]
  },
  {
   "cell_type": "code",
   "execution_count": 2,
   "id": "5de00259-09a7-47f8-a359-f4a52360ff77",
   "metadata": {},
   "outputs": [],
   "source": [
    "# Training dataset size\n",
    "training_size = 100\n",
    "\n",
    "# Test dataset size\n",
    "test_size = 20\n",
    "\n",
    "# Dimension of dataset\n",
    "n = 2 #These are the number of features in the input data\n",
    "\n",
    "# Construct training and test data\n",
    "# This function - ad_hoc_data() generates a toy binary classification dataset that can be fully separated with ZZFeatureMap.\n",
    "# It is built-in to qiskit, and we can customize this dataset however we want. Currently this only works with n=2 or n=3.\n",
    "# This function shall generate training_size number of positive examples and training_size number of negative examples. So, the total\n",
    "# number of examples would be 2*training_examples.\n",
    "training_feature_array, training_label_array, test_feature_array, test_label_array, = \\\n",
    "                            ad_hoc_data(training_size=training_size, test_size=test_size, n =n, gap=0.3,plot_data=False, one_hot=False)\n",
    "class_labels = ['A','B']"
   ]
  },
  {
   "cell_type": "code",
   "execution_count": 3,
   "id": "494d5c2d-bab3-4400-b221-0266fcec473c",
   "metadata": {},
   "outputs": [
    {
     "data": {
      "image/png": "[encoded data removed]",
      "text/plain": [
       "<Figure size 956.183x200.667 with 1 Axes>"
      ]
     },
     "metadata": {},
     "output_type": "display_data"
    }
   ],
   "source": [
    "# Initialize our qubits\n",
    "sv = Statevector.from_label('0'*n)\n",
    "#We use the ZZFeaturemap to encode our data\n",
    "feature_map = ZZFeatureMap(n,reps=1)\n",
    "# And the RealAmplitudes portion to encode our features\n",
    "var_form = RealAmplitudes(n,reps=1)\n",
    "circuit = feature_map.compose(var_form)\n",
    "circuit.decompose().draw('mpl');"
   ]
  },
  {
   "cell_type": "code",
   "execution_count": 4,
   "id": "4d3ea1d1-4b5c-4ff5-8ad0-d7b6922316ed",
   "metadata": {},
   "outputs": [],
   "source": [
    "def get_data_dict(params,x):\n",
    "    #This function takes in a list of parameters (params), and a data point.\n",
    "    #It then creates a dictionary called parameters in which we have the keys as the\n",
    "    #parameters of the circuit (The Ps and Rys that you can see in the diagram above)\n",
    "    #and the values as the input data point and the parameter values respectively\n",
    "    parameters = {}\n",
    "    for i,p in enumerate(feature_map.ordered_parameters):\n",
    "        parameters[p] = x[i]\n",
    "    for i,p in enumerate(var_form.ordered_parameters):\n",
    "        parameters[p] = params[i]\n",
    "    return parameters"
   ]
  },
  {
   "cell_type": "code",
   "execution_count": 5,
   "id": "cc56bd21-360f-4756-b3b4-be348942e4c1",
   "metadata": {},
   "outputs": [
    {
     "data": {
      "text/html": [
       "<pre style=\"word-wrap: normal;white-space: pre;background: #fff0;line-height: 1.1;font-family: &quot;Courier New&quot;,Courier,monospace\">     ┌───┐┌────────┐                       ┌─────────┐     ┌──────────┐\n",
       "q_0: ┤ H ├┤ P(0.2) ├──■─────────────────■──┤ Ry(0.1) ├──■──┤ Ry(0.02) ├\n",
       "     ├───┤├────────┤┌─┴─┐┌───────────┐┌─┴─┐├─────────┤┌─┴─┐├─────────┬┘\n",
       "q_1: ┤ H ├┤ P(0.4) ├┤ X ├┤ P(17.894) ├┤ X ├┤ Ry(1.2) ├┤ X ├┤ Ry(0.1) ├─\n",
       "     └───┘└────────┘└───┘└───────────┘└───┘└─────────┘└───┘└─────────┘ </pre>"
      ],
      "text/plain": [
       "     ┌───┐┌────────┐                       ┌─────────┐     ┌──────────┐\n",
       "q_0: ┤ H ├┤ P(0.2) ├──■─────────────────■──┤ Ry(0.1) ├──■──┤ Ry(0.02) ├\n",
       "     ├───┤├────────┤┌─┴─┐┌───────────┐┌─┴─┐├─────────┤┌─┴─┐├─────────┬┘\n",
       "q_1: ┤ H ├┤ P(0.4) ├┤ X ├┤ P(17.894) ├┤ X ├┤ Ry(1.2) ├┤ X ├┤ Ry(0.1) ├─\n",
       "     └───┘└────────┘└───┘└───────────┘└───┘└─────────┘└───┘└─────────┘ "
      ]
     },
     "execution_count": 5,
     "metadata": {},
     "output_type": "execute_result"
    }
   ],
   "source": [
    "data = [0.1,0.2]\n",
    "params = np.array([0.1,1.2,0.02,0.1])\n",
    "#Testing the above function on random inputs\n",
    "circ_ = circuit.assign_parameters(get_data_dict(params,data))\n",
    "circ_.decompose().draw(plot_barriers=True)"
   ]
  },
  {
   "cell_type": "code",
   "execution_count": 6,
   "id": "be5a4450-06f8-4488-b7be-ec00fed03938",
   "metadata": {},
   "outputs": [],
   "source": [
    "#This function takes a bit string and class labels. Then it assigns a class label to that bit string.\n",
    "#to the bit string depending on the hamming weight (sum of 1's in the string) of the bit string.\n",
    "#If the hamming weight is even (i.e there are even number of 1's), then we assign the class label as 0\n",
    "#If the hamming weight is odd (i.e there are odd number of 1's), then we assign the class label as 1\n",
    "def assign_label(bit_string,class_labels):\n",
    "    hamming_weight = sum([int(k) for k in list(bit_string)])\n",
    "    is_odd_parity = hamming_weight & 1\n",
    "    if is_odd_parity:\n",
    "        return class_labels[1]\n",
    "    else:\n",
    "        return class_labels[0]"
   ]
  },
  {
   "cell_type": "code",
   "execution_count": 7,
   "id": "bcf1283c-3237-4100-9ff0-b1982081a76b",
   "metadata": {},
   "outputs": [],
   "source": [
    "#The purpose of writing the above function, is that for each data point, when we calculate its output through the\n",
    "#circuit, we get a dictionary which tells us what is the probability of each of the 4 basis states (00,01,10,11) of the 2 qubits.\n",
    "#We then assign labels to each basis state based on the parity. We then use the below function to calculate the probabilites\n",
    "#of the labels that we get from the above function.\n",
    "\n",
    "#Say we get (1,1,1,0) as the output. Then we can say 1 has a probability of 75% and 0 has a probability of 25%.\n",
    "def return_probabilities(counts,class_labels):\n",
    "    #The counts dictionary will have the 4 basis states as the keys, and their counts as the values.\n",
    "    #We sum the values to get the total number of outputs (i.e. the shots)\n",
    "    shots = sum(counts.values())\n",
    "    #Initialize the result dict\n",
    "    result = {class_labels[0]:0,\n",
    "             class_labels[1]:0}\n",
    "    #For every entry in counts, calculate it's label.\n",
    "    #Then the probability of the entry would be (the value of the entry)/(shots).\n",
    "    for key, item in counts.items():\n",
    "        label = assign_label(key,class_labels)\n",
    "        result[label] += counts[key]/shots\n",
    "    return result"
   ]
  },
  {
   "cell_type": "code",
   "execution_count": 8,
   "id": "aee325d8-9262-4d9c-9e75-a7287972633e",
   "metadata": {},
   "outputs": [
    {
     "data": {
      "text/plain": [
       "{'A': 0.75, 'B': 0.25}"
      ]
     },
     "execution_count": 8,
     "metadata": {},
     "output_type": "execute_result"
    }
   ],
   "source": [
    "#Testing out the above function.\n",
    "return_probabilities({'00':10,'01':10, '11':20},class_labels)"
   ]
  },
  {
   "cell_type": "code",
   "execution_count": 9,
   "id": "95a9e265-ffeb-4104-bf49-8de828fea2dd",
   "metadata": {},
   "outputs": [],
   "source": [
    "#We use the above 2 functions to classify the entire dataset.\n",
    "#For every entry in the input data,we use the same parameter array, and run the input through the circuit\n",
    "#Then for every circuit, we get the count dictionary and get the probability of every datapoint.\n",
    "#Which is the y-hat values.\n",
    "def classify(x_list, params, class_labels):\n",
    "    qc_list = []\n",
    "    for x in x_list:\n",
    "        circ_ = circuit.assign_parameters(get_data_dict(params,x))\n",
    "        qc = sv.evolve(circ_)\n",
    "        qc_list += [qc]\n",
    "    probs = []\n",
    "    for qc in qc_list:\n",
    "        counts = qc.probabilities_dict()\n",
    "        prob = return_probabilities(counts, class_labels)\n",
    "        probs += [prob]\n",
    "    return probs"
   ]
  },
  {
   "cell_type": "code",
   "execution_count": 10,
   "id": "8f1bd001-94d0-450d-a1c3-a6444f02b67c",
   "metadata": {},
   "outputs": [
    {
     "data": {
      "text/plain": [
       "[{'A': 0.8441066924371945, 'B': 0.1558933075628055}]"
      ]
     },
     "execution_count": 10,
     "metadata": {},
     "output_type": "execute_result"
    }
   ],
   "source": [
    "x = np.asarray([[0.5,0.5]])\n",
    "classify(x,params=np.array([0.8,-0.5,1.5,0.5]), class_labels=class_labels)"
   ]
  },
  {
   "cell_type": "code",
   "execution_count": 11,
   "id": "ec062867-a765-4571-8425-1d37a14a6079",
   "metadata": {},
   "outputs": [],
   "source": [
    "#We use the sigmoid function to calculate the cost of predicting the \n",
    "#output label based on the current output probability and the actual label\n",
    "def cost_estimate_sigmoid(probs, expected_label): # probability of label v/s actual labels\n",
    "    p = probs.get(expected_label)\n",
    "    sig = None\n",
    "    if np.isclose(p,0.0):\n",
    "        sig = 1\n",
    "    elif np.isclose(p,1.0):\n",
    "        sig = 0\n",
    "    else:\n",
    "        denominator = np.sqrt(2*p*(1-p))\n",
    "        x = np.sqrt(200)*(0.5-p)/denominator\n",
    "        sig = 1/(1+np.exp(-x))\n",
    "    return sig"
   ]
  },
  {
   "cell_type": "code",
   "execution_count": 12,
   "id": "9a7bafae-2bb9-46ce-b75a-623b326f29da",
   "metadata": {},
   "outputs": [
    {
     "data": {
      "image/png": "[encoded data removed]",
      "text/plain": [
       "<Figure size 640x480 with 1 Axes>"
      ]
     },
     "metadata": {},
     "output_type": "display_data"
    }
   ],
   "source": [
    "x = np.linspace(0,1,20)\n",
    "y = [cost_estimate_sigmoid({'A':x_, 'B': 1-x_}, 'A') for x_ in x]\n",
    "plt.plot(x,y)\n",
    "plt.xlabel('Probability of assigning the correct class')\n",
    "plt.ylabel('Cost value')\n",
    "plt.show()"
   ]
  },
  {
   "cell_type": "code",
   "execution_count": 13,
   "id": "e5a6a9f4-5210-41bc-8759-2a9b18c0c3c4",
   "metadata": {},
   "outputs": [],
   "source": [
    "# This cost function computes the total cost of all the training points, and then divides it by the length of the training data\n",
    "def cost_function(training_feature_array, training_label_array, class_labels, params, shots=100, print_value=False):\n",
    "    cost=0\n",
    "    probs= classify(training_feature_array,params,class_labels)\n",
    "    for i, prob in enumerate(probs):\n",
    "        cost+= cost_estimate_sigmoid(prob, 'A' if training_label_array[i]==0 else 'B')\n",
    "    cost/= len(training_feature_array)\n",
    "    if print_value:\n",
    "        print('%.4f'%cost)\n",
    "\n",
    "    return cost"
   ]
  },
  {
   "cell_type": "code",
   "execution_count": 14,
   "id": "f6327f12-73d9-437d-a138-7a2d289e561b",
   "metadata": {},
   "outputs": [
    {
     "data": {
      "text/plain": [
       "0.6007691467045185"
      ]
     },
     "execution_count": 14,
     "metadata": {},
     "output_type": "execute_result"
    }
   ],
   "source": [
    "cost_function(training_feature_array, training_label_array, class_labels,params)"
   ]
  },
  {
   "cell_type": "markdown",
   "id": "cbd1e0ae-cd70-45ba-80d4-cbc1778c0bd2",
   "metadata": {},
   "source": [
    "# Train the classifier"
   ]
  },
  {
   "cell_type": "code",
   "execution_count": 15,
   "id": "9eb16a22-3e9b-4272-a725-0a9a495fde13",
   "metadata": {},
   "outputs": [
    {
     "name": "stdout",
     "output_type": "stream",
     "text": [
      "0.4685\n",
      "0.4686\n",
      "0.5662\n",
      "0.3997\n",
      "0.3278\n",
      "0.3188\n",
      "0.3807\n",
      "0.3187\n",
      "0.3252\n",
      "0.2741\n",
      "0.2572\n",
      "0.2981\n",
      "0.2734\n",
      "0.2772\n",
      "0.2569\n",
      "0.2838\n",
      "0.2726\n",
      "0.2487\n",
      "0.2578\n",
      "0.2594\n",
      "0.2413\n",
      "0.2407\n",
      "0.2429\n",
      "0.2399\n",
      "0.2453\n",
      "0.2408\n",
      "0.2401\n",
      "0.2404\n",
      "0.2395\n",
      "0.2395\n",
      "0.2399\n",
      "0.2390\n",
      "0.2390\n",
      "0.2391\n",
      "0.2390\n",
      "0.2391\n",
      "0.2389\n",
      "0.2388\n",
      "0.2388\n",
      "0.2389\n",
      "0.2387\n",
      "0.2387\n",
      "0.2387\n",
      "0.2389\n",
      "0.2387\n",
      "0.2387\n",
      "0.2387\n",
      "0.2387\n",
      "0.2387\n",
      "0.2387\n",
      "0.2387\n",
      "0.2387\n",
      "0.2387\n",
      "0.2387\n",
      "0.2387\n",
      "0.2387\n",
      "0.2387\n",
      "0.2387\n",
      "0.2387\n",
      "0.2387\n",
      "0.2387\n",
      "0.2387\n",
      "0.2387\n",
      "0.2387\n",
      "0.2387\n",
      "0.2387\n",
      "0.2387\n",
      "0.2387\n",
      "0.2387\n",
      "0.2387\n",
      "0.2387\n",
      "0.2387\n",
      "0.2387\n",
      "0.2387\n",
      "0.2387\n",
      "0.2387\n",
      "0.2387\n",
      "0.2387\n",
      "0.2387\n",
      "0.2387\n",
      "0.2387\n",
      "0.2387\n",
      "0.2387\n",
      "0.2387\n",
      "0.2387\n",
      "\n",
      "opt_params: [3.71778599 1.83226023 7.2039454  2.2618062 ]\n",
      "opt_value: 0.23871317818291904\n"
     ]
    }
   ],
   "source": [
    "# Setup the optimizer\n",
    "optimizer = COBYLA(maxiter=100)\n",
    "\n",
    "# Define the objective function for training\n",
    "objective_function = lambda params: cost_function(training_feature_array, training_label_array, class_labels, params, print_value=True)\n",
    "\n",
    "# Randomly initialize the parameters\n",
    "init_params = 2*np.pi*np.random.rand(n*(1)*2)\n",
    "\n",
    "# train classifier\n",
    "result = optimizer.minimize(fun=objective_function, x0=init_params)\n",
    "\n",
    "# Print results\n",
    "print()\n",
    "print('opt_params:', result.x)\n",
    "print('opt_value:', result.fun)"
   ]
  },
  {
   "cell_type": "markdown",
   "id": "ec94d4e5-6740-4f59-9c1b-c524b3fc0955",
   "metadata": {},
   "source": [
    "# Testing the trained classifier"
   ]
  },
  {
   "cell_type": "code",
   "execution_count": 16,
   "id": "43884f9f-60a7-4f82-b994-74da5c6a63dd",
   "metadata": {},
   "outputs": [
    {
     "name": "stdout",
     "output_type": "stream",
     "text": [
      "Accuracy -  57.49999999999999 %\n"
     ]
    }
   ],
   "source": [
    "results = classify(test_feature_array,params,class_labels)\n",
    "misclassified = 0\n",
    "for i, result in enumerate(results):\n",
    "    assigned_label = np.argmax([p for p in result.values()]) \n",
    "    if assigned_label!=test_label_array[i]:\n",
    "        misclassified+=1\n",
    "print(\"Accuracy - \", (misclassified/len(test_label_array))*100, '%')\n",
    "        "
   ]
  },
  {
   "cell_type": "code",
   "execution_count": null,
   "id": "5aeae120-e574-41e3-b214-46e78c2d60c6",
   "metadata": {},
   "outputs": [],
   "source": []
  }
 ],
 "metadata": {
  "kernelspec": {
   "display_name": "Python 3 (ipykernel)",
   "language": "python",
   "name": "python3"
  },
  "language_info": {
   "codemirror_mode": {
    "name": "ipython",
    "version": 3
   },
   "file_extension": ".py",
   "mimetype": "text/x-python",
   "name": "python",
   "nbconvert_exporter": "python",
   "pygments_lexer": "ipython3",
   "version": "3.10.10"
  }
 },
 "nbformat": 4,
 "nbformat_minor": 5
}
