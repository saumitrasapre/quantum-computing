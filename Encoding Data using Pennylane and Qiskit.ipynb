{
 "cells": [
  {
   "cell_type": "markdown",
   "id": "042f8642-dca1-4c98-9132-49e9f41826f8",
   "metadata": {},
   "source": [
    "# Encoding classical data into qubits using Pennylane and Qiskit"
   ]
  },
  {
   "cell_type": "code",
   "execution_count": 1,
   "id": "7f3e58dd-359c-4429-82fa-9843073a3596",
   "metadata": {},
   "outputs": [],
   "source": [
    "import pennylane as qml\n",
    "from pennylane import numpy as np"
   ]
  },
  {
   "cell_type": "markdown",
   "id": "c28ca072-92ef-4607-bd3e-21ce0092a650",
   "metadata": {},
   "source": [
    "# Basis Encoding using PennyLane"
   ]
  },
  {
   "cell_type": "code",
   "execution_count": 2,
   "id": "797d9103-44b1-40a6-986c-994bc5353b6a",
   "metadata": {},
   "outputs": [],
   "source": [
    "# import Basis encoding template\n",
    "from pennylane.templates.embeddings import BasisEmbedding"
   ]
  },
  {
   "cell_type": "code",
   "execution_count": 3,
   "id": "066b569c-32d9-4dd6-8a2d-b980e88553a4",
   "metadata": {},
   "outputs": [],
   "source": [
    "data = np.array([1,0,1])\n",
    "\n",
    "dev = qml.device('default.qubit', wires=3)\n",
    "\n",
    "@qml.qnode(dev)\n",
    "def circuit(data):\n",
    "    BasisEmbedding(features=data,wires=range(3))\n",
    "    return qml.expval(qml.PauliZ(0)), qml.expval(qml.PauliZ(1)), qml.expval(qml.PauliZ(2))"
   ]
  },
  {
   "cell_type": "code",
   "execution_count": 4,
   "id": "6a1ed0cc-4cd6-4069-bdd4-4e39295d0115",
   "metadata": {},
   "outputs": [
    {
     "data": {
      "text/plain": [
       "(tensor(-1., requires_grad=True),\n",
       " tensor(1., requires_grad=True),\n",
       " tensor(-1., requires_grad=True))"
      ]
     },
     "execution_count": 4,
     "metadata": {},
     "output_type": "execute_result"
    }
   ],
   "source": [
    "circuit(data)"
   ]
  },
  {
   "cell_type": "markdown",
   "id": "e78665ee-af52-43ad-8fbb-88b9fa60ec96",
   "metadata": {},
   "source": [
    "# Angle encoding with Pennylane"
   ]
  },
  {
   "cell_type": "code",
   "execution_count": 5,
   "id": "78271cf9-e5a3-4765-bfc4-bb983fb35508",
   "metadata": {},
   "outputs": [],
   "source": [
    "from sklearn.datasets import load_iris\n",
    "from sklearn.utils import shuffle\n",
    "from sklearn.preprocessing import normalize\n",
    "np.random.seed(42)"
   ]
  },
  {
   "cell_type": "code",
   "execution_count": 6,
   "id": "973a4d31-49e9-4cff-a0e4-8f9c69b76636",
   "metadata": {},
   "outputs": [],
   "source": [
    "x, Y = load_iris().data, load_iris().target\n",
    "x, Y = shuffle(x,Y)\n",
    "\n",
    "x = x[:5]\n",
    "Y = Y[:5]"
   ]
  },
  {
   "cell_type": "code",
   "execution_count": 7,
   "id": "f5465e3f-dcf0-4c1e-95e6-db5766e505e8",
   "metadata": {},
   "outputs": [
    {
     "name": "stdout",
     "output_type": "stream",
     "text": [
      "[[6.1 2.8 4.7 1.2]\n",
      " [5.7 3.8 1.7 0.3]\n",
      " [7.7 2.6 6.9 2.3]\n",
      " [6.  2.9 4.5 1.5]\n",
      " [6.8 2.8 4.8 1.4]] [1 0 2 1 1]\n"
     ]
    }
   ],
   "source": [
    "print(x,Y)"
   ]
  },
  {
   "cell_type": "code",
   "execution_count": 8,
   "id": "783392bd-3258-4d2b-acb6-cfc96807def6",
   "metadata": {},
   "outputs": [
    {
     "name": "stdout",
     "output_type": "stream",
     "text": [
      "[[0.73659895 0.33811099 0.56754345 0.14490471]\n",
      " [0.8068282  0.53788547 0.24063297 0.04246464]\n",
      " [0.70600618 0.2383917  0.63265489 0.21088496]\n",
      " [0.73350949 0.35452959 0.55013212 0.18337737]\n",
      " [0.76467269 0.31486523 0.53976896 0.15743261]]\n"
     ]
    }
   ],
   "source": [
    "data = normalize(x)\n",
    "print(data)"
   ]
  },
  {
   "cell_type": "code",
   "execution_count": 9,
   "id": "0b145697-3c33-4d62-b45a-3684689fef16",
   "metadata": {},
   "outputs": [],
   "source": [
    "from pennylane.templates.embeddings import AngleEmbedding"
   ]
  },
  {
   "cell_type": "code",
   "execution_count": 10,
   "id": "bfaca503-7752-4d60-8236-4bd372515538",
   "metadata": {},
   "outputs": [],
   "source": [
    "num_qubits = len(data[0]) # No. of qubits= No. of features\n",
    "dev = qml.device('default.qubit', wires=num_qubits)\n",
    "\n",
    "@qml.qnode(dev)\n",
    "def circuit(data):\n",
    "    for i in range(num_qubits):\n",
    "        qml.Hadamard(wires=i)\n",
    "    AngleEmbedding(features=data, wires=range(num_qubits), rotation='Y')    \n",
    "    return qml.expval(qml.PauliZ(0)), qml.expval(qml.PauliZ(1)), qml.expval(qml.PauliZ(2)), qml.expval(qml.PauliZ(3))"
   ]
  },
  {
   "cell_type": "code",
   "execution_count": 11,
   "id": "63545562-1669-42e6-93f9-17a064285e3a",
   "metadata": {},
   "outputs": [
    {
     "data": {
      "text/plain": [
       "(tensor(-0.67177245, requires_grad=True),\n",
       " tensor(-0.33170563, requires_grad=True),\n",
       " tensor(-0.53756225, requires_grad=True),\n",
       " tensor(-0.14439814, requires_grad=True))"
      ]
     },
     "execution_count": 11,
     "metadata": {},
     "output_type": "execute_result"
    }
   ],
   "source": [
    "circuit(data[0])"
   ]
  },
  {
   "cell_type": "code",
   "execution_count": 12,
   "id": "4720f63d-8638-4487-8f32-b3fc7c55a693",
   "metadata": {},
   "outputs": [],
   "source": [
    "# Encode all data\n",
    "@qml.qnode(dev)\n",
    "def circuit(data):\n",
    "    for i in range(num_qubits):\n",
    "        qml.Hadamard(wires=i)\n",
    "    for i in range(len(data)):\n",
    "        AngleEmbedding(features=data[i], wires=range(num_qubits), rotation='Y')    \n",
    "    return qml.expval(qml.PauliZ(0)), qml.expval(qml.PauliZ(1)), qml.expval(qml.PauliZ(2)), qml.expval(qml.PauliZ(3))"
   ]
  },
  {
   "cell_type": "code",
   "execution_count": 13,
   "id": "5c58a342-685f-4b35-9528-e5fbd758d30c",
   "metadata": {},
   "outputs": [
    {
     "data": {
      "text/plain": [
       "(tensor(0.56960308, requires_grad=True),\n",
       " tensor(-0.97740396, requires_grad=True),\n",
       " tensor(-0.57357236, requires_grad=True),\n",
       " tensor(-0.67359663, requires_grad=True))"
      ]
     },
     "execution_count": 13,
     "metadata": {},
     "output_type": "execute_result"
    }
   ],
   "source": [
    "circuit(data)"
   ]
  },
  {
   "cell_type": "markdown",
   "id": "3fefbb03-2b85-4ea0-b89b-e940643b8215",
   "metadata": {},
   "source": [
    "# Angle encoding with Qiskit"
   ]
  },
  {
   "cell_type": "code",
   "execution_count": 14,
   "id": "61a820da-30cd-45f8-a4be-ce41a635be58",
   "metadata": {},
   "outputs": [],
   "source": [
    "from qiskit import *\n",
    "from qiskit.circuit.library import ZFeatureMap"
   ]
  },
  {
   "cell_type": "code",
   "execution_count": 15,
   "id": "e8e1a58c-0f13-47dd-96d2-631aa44a5205",
   "metadata": {},
   "outputs": [],
   "source": [
    "featuremap_circ = ZFeatureMap(4, reps=1)"
   ]
  },
  {
   "cell_type": "code",
   "execution_count": 16,
   "id": "05b4bc38-dc5b-432a-9871-df9693924a47",
   "metadata": {},
   "outputs": [
    {
     "name": "stdout",
     "output_type": "stream",
     "text": [
      "     ┌───┐┌─────────────┐\n",
      "q_0: ┤ H ├┤ P(2.0*x[0]) ├\n",
      "     ├───┤├─────────────┤\n",
      "q_1: ┤ H ├┤ P(2.0*x[1]) ├\n",
      "     ├───┤├─────────────┤\n",
      "q_2: ┤ H ├┤ P(2.0*x[2]) ├\n",
      "     ├───┤├─────────────┤\n",
      "q_3: ┤ H ├┤ P(2.0*x[3]) ├\n",
      "     └───┘└─────────────┘\n"
     ]
    }
   ],
   "source": [
    "print(featuremap_circ.decompose())"
   ]
  },
  {
   "cell_type": "code",
   "execution_count": 19,
   "id": "49761ee2-927f-4a6c-b78b-4b1e1d65df18",
   "metadata": {},
   "outputs": [
    {
     "name": "stdout",
     "output_type": "stream",
     "text": [
      "     ┌───┐┌───────────┐ \n",
      "q_0: ┤ H ├┤ P(0.7366) ├─\n",
      "     ├───┤├───────────┴┐\n",
      "q_1: ┤ H ├┤ P(0.33811) ├\n",
      "     ├───┤├────────────┤\n",
      "q_2: ┤ H ├┤ P(0.56754) ├\n",
      "     ├───┤├───────────┬┘\n",
      "q_3: ┤ H ├┤ P(0.1449) ├─\n",
      "     └───┘└───────────┘ \n"
     ]
    }
   ],
   "source": [
    "circ_data0 = featuremap_circ.assign_parameters(data[0]/2)\n",
    "\n",
    "print(circ_data0.decompose())"
   ]
  },
  {
   "cell_type": "code",
   "execution_count": 23,
   "id": "1e5c956a-af7d-4aef-8954-144d10045763",
   "metadata": {},
   "outputs": [
    {
     "name": "stdout",
     "output_type": "stream",
     "text": [
      "     ┌───┐┌───────────┐ ┌───┐ ┌────────────┐\n",
      "q_0: ┤ H ├┤ P(0.7366) ├─┤ H ├─┤ P(0.80683) ├\n",
      "     ├───┤├───────────┴┐├───┤ ├────────────┤\n",
      "q_1: ┤ H ├┤ P(0.33811) ├┤ H ├─┤ P(0.53789) ├\n",
      "     ├───┤├────────────┤├───┤ ├────────────┤\n",
      "q_2: ┤ H ├┤ P(0.56754) ├┤ H ├─┤ P(0.24063) ├\n",
      "     ├───┤├───────────┬┘├───┤┌┴────────────┤\n",
      "q_3: ┤ H ├┤ P(0.1449) ├─┤ H ├┤ P(0.042465) ├\n",
      "     └───┘└───────────┘ └───┘└─────────────┘\n"
     ]
    }
   ],
   "source": [
    "circ_data1 = circ_data0.compose(featuremap_circ.assign_parameters(data[1]/2))\n",
    "\n",
    "print(circ_data1.decompose())"
   ]
  },
  {
   "cell_type": "code",
   "execution_count": 25,
   "id": "f8791f45-3470-4932-a1e1-19ae5f99f6cc",
   "metadata": {},
   "outputs": [
    {
     "name": "stdout",
     "output_type": "stream",
     "text": [
      "     ┌───┐┌───────────┐ ┌───┐ ┌────────────┐┌───┐┌────────────┐┌───┐»\n",
      "q_0: ┤ H ├┤ P(0.7366) ├─┤ H ├─┤ P(0.80683) ├┤ H ├┤ P(0.70601) ├┤ H ├»\n",
      "     ├───┤├───────────┴┐├───┤ ├────────────┤├───┤├────────────┤├───┤»\n",
      "q_1: ┤ H ├┤ P(0.33811) ├┤ H ├─┤ P(0.53789) ├┤ H ├┤ P(0.23839) ├┤ H ├»\n",
      "     ├───┤├────────────┤├───┤ ├────────────┤├───┤├────────────┤├───┤»\n",
      "q_2: ┤ H ├┤ P(0.56754) ├┤ H ├─┤ P(0.24063) ├┤ H ├┤ P(0.63265) ├┤ H ├»\n",
      "     ├───┤├───────────┬┘├───┤┌┴────────────┤├───┤├────────────┤├───┤»\n",
      "q_3: ┤ H ├┤ P(0.1449) ├─┤ H ├┤ P(0.042465) ├┤ H ├┤ P(0.21088) ├┤ H ├»\n",
      "     └───┘└───────────┘ └───┘└─────────────┘└───┘└────────────┘└───┘»\n",
      "«     ┌────────────┐┌───┐┌────────────┐\n",
      "«q_0: ┤ P(0.73351) ├┤ H ├┤ P(0.76467) ├\n",
      "«     ├────────────┤├───┤├────────────┤\n",
      "«q_1: ┤ P(0.35453) ├┤ H ├┤ P(0.31487) ├\n",
      "«     ├────────────┤├───┤├────────────┤\n",
      "«q_2: ┤ P(0.55013) ├┤ H ├┤ P(0.53977) ├\n",
      "«     ├────────────┤├───┤├────────────┤\n",
      "«q_3: ┤ P(0.18338) ├┤ H ├┤ P(0.15743) ├\n",
      "«     └────────────┘└───┘└────────────┘\n"
     ]
    }
   ],
   "source": [
    "circ = QuantumCircuit(4)\n",
    "\n",
    "for i in range(len(data)):\n",
    "    circ = circ.compose(featuremap_circ.assign_parameters(data[i]/2))\n",
    "\n",
    "print(circ.decompose())"
   ]
  },
  {
   "cell_type": "markdown",
   "id": "86b9b8b7-b527-43b8-9a4f-601797bf6b60",
   "metadata": {},
   "source": [
    "# Higher order feature encoding using Qiskit"
   ]
  },
  {
   "cell_type": "code",
   "execution_count": 26,
   "id": "98254ab4-8987-439e-949f-078d0bd1ca90",
   "metadata": {},
   "outputs": [],
   "source": [
    "from qiskit.circuit.library import ZZFeatureMap"
   ]
  },
  {
   "cell_type": "code",
   "execution_count": 27,
   "id": "76ccd494-bd9a-4e31-b6fe-7c13d2727634",
   "metadata": {},
   "outputs": [],
   "source": [
    "featuremap_circ = ZZFeatureMap(2, reps=1)"
   ]
  },
  {
   "cell_type": "code",
   "execution_count": 28,
   "id": "5f304f89-c8f1-4419-b2cc-8826cd6dd367",
   "metadata": {},
   "outputs": [
    {
     "name": "stdout",
     "output_type": "stream",
     "text": [
      "     ┌───┐┌─────────────┐                                          \n",
      "q_0: ┤ H ├┤ P(2.0*x[0]) ├──■────────────────────────────────────■──\n",
      "     ├───┤├─────────────┤┌─┴─┐┌──────────────────────────────┐┌─┴─┐\n",
      "q_1: ┤ H ├┤ P(2.0*x[1]) ├┤ X ├┤ P(2.0*(π - x[0])*(π - x[1])) ├┤ X ├\n",
      "     └───┘└─────────────┘└───┘└──────────────────────────────┘└───┘\n"
     ]
    }
   ],
   "source": [
    "print(featuremap_circ.decompose())"
   ]
  },
  {
   "cell_type": "code",
   "execution_count": null,
   "id": "8194c2ae-5be9-459a-bf3c-999e81500281",
   "metadata": {},
   "outputs": [],
   "source": []
  }
 ],
 "metadata": {
  "kernelspec": {
   "display_name": "Python 3 (ipykernel)",
   "language": "python",
   "name": "python3"
  },
  "language_info": {
   "codemirror_mode": {
    "name": "ipython",
    "version": 3
   },
   "file_extension": ".py",
   "mimetype": "text/x-python",
   "name": "python",
   "nbconvert_exporter": "python",
   "pygments_lexer": "ipython3",
   "version": "3.10.10"
  }
 },
 "nbformat": 4,
 "nbformat_minor": 5
}
